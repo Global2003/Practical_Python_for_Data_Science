{
 "cells": [
  {
   "cell_type": "markdown",
   "metadata": {},
   "source": [
    "![](prac_3.png)"
   ]
  },
  {
   "cell_type": "code",
   "execution_count": 2,
   "metadata": {},
   "outputs": [
    {
     "name": "stdout",
     "output_type": "stream",
     "text": [
      "The original list is: [23, 15, 46, 58, 65, 15, 124]\n",
      "The new list is: [ 15  23  46  58  65 124]\n"
     ]
    }
   ],
   "source": [
    "'''3(a) Write a program to take inputs from the user and return a list with unique elements.'''\n",
    "import numpy as np\n",
    "list = []\n",
    "n = int(input(\"Enter total number of elements in the list:\"))\n",
    "for i in range(0, n):\n",
    "    ele = int(input())\n",
    "    list.append(ele) # adding the element\n",
    "print(\"The original list is:\",list)\n",
    "print(\"The new list is:\",np.unique(list))"
   ]
  },
  {
   "cell_type": "code",
   "execution_count": 12,
   "metadata": {},
   "outputs": [
    {
     "name": "stdout",
     "output_type": "stream",
     "text": [
      "The password user entered is: Werfgt$563\n",
      "Valid Password\n"
     ]
    }
   ],
   "source": [
    "'''2(b) Write a program to check the validity of a password entered by the user. \n",
    "The password should contain the following specifications for validation.\n",
    "* At least one lowercase and one uppercase alphabets.\n",
    "* At least one digit.\n",
    "* At least one special character @, #, or $.\n",
    "* Minimum length of 6 characters.\n",
    "* Maximum length of 12 characters.'''\n",
    "\n",
    "# Python regex re.search() method looks for occurrences of the regex pattern inside the \n",
    "# entire target string and returns the corresponding Match Object instance where the match \n",
    "# found. The re.search() returns only the first match to the pattern from the target string.\n",
    "\n",
    "import re\n",
    "passwd = input(\"Input your password\")\n",
    "print(\"The password user entered is:\",passwd)\n",
    "x = True\n",
    "while x:  \n",
    "    if (len(passwd)<6 or len(passwd)>12):\n",
    "        break\n",
    "    elif not re.search(\"[a-z]\",passwd):\n",
    "        break\n",
    "    elif not re.search(\"[0-9]\",passwd):\n",
    "        break\n",
    "    elif not re.search(\"[A-Z]\",passwd):\n",
    "        break\n",
    "    elif not re.search(\"[$#@]\",passwd):\n",
    "        break\n",
    "    elif re.search(\"\\s\",passwd):\n",
    "        break\n",
    "    else:\n",
    "        print(\"Valid Password\")\n",
    "        x = False\n",
    "        break\n",
    "if x:\n",
    "    print(\"Not a Valid Password\")"
   ]
  },
  {
   "cell_type": "code",
   "execution_count": 13,
   "metadata": {},
   "outputs": [
    {
     "name": "stdout",
     "output_type": "stream",
     "text": [
      "Till 9 the pattern is as follows\n",
      "1\n",
      "22\n",
      "333\n",
      "4444\n",
      "55555\n",
      "666666\n",
      "7777777\n",
      "88888888\n",
      "999999999\n"
     ]
    }
   ],
   "source": [
    "'''3(c) Write a program to print the following pattern using a nested loop.'''\n",
    "\n",
    "n = int(input(\"The number of rows till you want the pattern?\"))\n",
    "print(\"Till {} the pattern is as follows\".format(n))\n",
    "for i in range(n):\n",
    "    for j in range(i+1):\n",
    "        print(i+1, end = '')\n",
    "    print()\n"
   ]
  },
  {
   "cell_type": "code",
   "execution_count": 3,
   "metadata": {},
   "outputs": [
    {
     "name": "stdout",
     "output_type": "stream",
     "text": [
      "Area of the circle is: 78\n",
      "Perimeter of the circle is: 31\n",
      "\n",
      "Calling with c2 instance with same radius:\n",
      "\n",
      "Area of the circle is: 78\n",
      "Perimeter of the circle is: 31\n",
      "\n",
      "Area of the circle is: 12\n",
      "Perimeter of the circle is: 12\n",
      "\n"
     ]
    }
   ],
   "source": [
    "'''3(d) Write a program with \"Circle\" class with an argument asking for a radius value. \n",
    "Build two methods to compute area and perimeter of a circle using radius. Also, create\n",
    "two instances \"c1\" and \"c2\" of class \"Circle\" for the following tasks.\n",
    "* Call both the methods using both instances to print\n",
    "corresponding outputs.\n",
    "* Modify radius value in \"c2\" instance. Compute area or\n",
    "perimeter by calling appropriate method.'''\n",
    "\n",
    "class Circle:\n",
    "    def __init__(self,radius):\n",
    "        self.radius = float(radius):\n",
    "    def area(self):\n",
    "        area = float(self.radius*self.radius*3.14)\n",
    "        print(\"Area of the circle is: %d\"%area)\n",
    "    def perimeter(self):\n",
    "        perimeter = float(2*3.14*self.radius)\n",
    "        print(\"Perimeter of the circle is: %d\\n\"%perimeter)\n",
    "r = input(\"Enter the radius of c1 instance:\\n\")\n",
    "c1 = Circle(r)\n",
    "c2 = Circle(r)\n",
    "c1.area()\n",
    "c1.perimeter()\n",
    "print(\"Calling with c2 instance with same radius:\\n\")\n",
    "c2.area()\n",
    "c2.perimeter()\n",
    "r1 = input(\"Modify the radius of c2 instance:\\n\")\n",
    "c2 = Circle(r1)\n",
    "c2.area()\n",
    "c2.perimeter()"
   ]
  },
  {
   "cell_type": "code",
   "execution_count": 2,
   "metadata": {},
   "outputs": [
    {
     "name": "stdout",
     "output_type": "stream",
     "text": [
      "\n",
      "Addition of two instances:\n",
      "\n",
      "(4+1j)\n",
      "  +\n",
      "(5+3j)\n",
      "--------\n",
      "(9+4j)\n",
      "\n",
      "Modulus of n1:\n",
      "(4.123105625617661+0j)\n",
      "\n",
      "Modulus of n2:\n",
      "(5.830951894845301+0j)\n",
      "\n",
      "Deleting the imaginary part of n2 instance.....\n",
      "\n",
      "\n",
      "Checking for the imaginary parts:\n",
      "\n",
      "for n1 instance:\n",
      "Imaginary part is present\n",
      "\n",
      "For n2 instance:\n"
     ]
    },
    {
     "ename": "AttributeError",
     "evalue": "'ComplexNumber' object has no attribute 'img'",
     "output_type": "error",
     "traceback": [
      "\u001b[1;31m---------------------------------------------------------------------------\u001b[0m",
      "\u001b[1;31mAttributeError\u001b[0m                            Traceback (most recent call last)",
      "\u001b[1;32mc:\\Users\\DEVARSHI SHAH\\Desktop\\vs code\\PYD\\prac_sem5\\prac_3.ipynb Cell 6\u001b[0m in \u001b[0;36m<cell line: 34>\u001b[1;34m()\u001b[0m\n\u001b[0;32m     <a href='vscode-notebook-cell:/c%3A/Users/DEVARSHI%20SHAH/Desktop/vs%20code/PYD/prac_sem5/prac_3.ipynb#W6sZmlsZQ%3D%3D?line=31'>32</a>\u001b[0m   \u001b[39mprint\u001b[39m(\u001b[39m\"\u001b[39m\u001b[39mImaginary part is not present\u001b[39m\u001b[39m\\n\u001b[39;00m\u001b[39m\"\u001b[39m)\n\u001b[0;32m     <a href='vscode-notebook-cell:/c%3A/Users/DEVARSHI%20SHAH/Desktop/vs%20code/PYD/prac_sem5/prac_3.ipynb#W6sZmlsZQ%3D%3D?line=32'>33</a>\u001b[0m \u001b[39mprint\u001b[39m(\u001b[39m\"\u001b[39m\u001b[39mFor n2 instance:\u001b[39m\u001b[39m\"\u001b[39m)\n\u001b[1;32m---> <a href='vscode-notebook-cell:/c%3A/Users/DEVARSHI%20SHAH/Desktop/vs%20code/PYD/prac_sem5/prac_3.ipynb#W6sZmlsZQ%3D%3D?line=33'>34</a>\u001b[0m \u001b[39mif\u001b[39;00m n2\u001b[39m.\u001b[39;49mimg \u001b[39m==\u001b[39m img1:\n\u001b[0;32m     <a href='vscode-notebook-cell:/c%3A/Users/DEVARSHI%20SHAH/Desktop/vs%20code/PYD/prac_sem5/prac_3.ipynb#W6sZmlsZQ%3D%3D?line=34'>35</a>\u001b[0m   \u001b[39mprint\u001b[39m(\u001b[39m\"\u001b[39m\u001b[39mImaginary part is present\u001b[39m\u001b[39m\"\u001b[39m)\n\u001b[0;32m     <a href='vscode-notebook-cell:/c%3A/Users/DEVARSHI%20SHAH/Desktop/vs%20code/PYD/prac_sem5/prac_3.ipynb#W6sZmlsZQ%3D%3D?line=35'>36</a>\u001b[0m \u001b[39melse\u001b[39;00m:\n",
      "\u001b[1;31mAttributeError\u001b[0m: 'ComplexNumber' object has no attribute 'img'"
     ]
    }
   ],
   "source": [
    "import cmath\n",
    "class ComplexNumber:\n",
    "  def __init__(self,real,img):\n",
    "    self.real = real\n",
    "    self.img = img\n",
    "    print(complex(real,img))\n",
    "  def add(self,other):\n",
    "    print(complex(self.real + other.real,self.img + other.img))\n",
    "  def modulus(self):\n",
    "    print(cmath.sqrt(self.real**2 + self.img**2))\n",
    "real = float(input(\"Enter the real number for n1:\\n\"))\n",
    "img = complex(input(\"Enter the imaginary number for n1:\\n\"))\n",
    "real1 = float(input(\"Enter the real number for n2:\\n\"))\n",
    "img1 = complex(input(\"Enter the imaginary number for n2:\\n\"))\n",
    "print(\"\\nAddition of two instances:\\n\")\n",
    "n1 = ComplexNumber(real,img)\n",
    "print(\"  +\")\n",
    "n2 = ComplexNumber(real1,img1)\n",
    "print(\"--------\")\n",
    "n1.add(n2)\n",
    "print(\"\\nModulus of n1:\")\n",
    "n1.modulus()\n",
    "print(\"\\nModulus of n2:\")\n",
    "n2.modulus()\n",
    "print(\"\\nDeleting the imaginary part of n2 instance.....\\n\")\n",
    "del n2.img\n",
    "print(\"\\nChecking for the imaginary parts:\\n\")\n",
    "print(\"for n1 instance:\")\n",
    "if n1.img == img :\n",
    "  print(\"Imaginary part is present\\n\")\n",
    "else:\n",
    "  print(\"Imaginary part is not present\\n\")\n",
    "print(\"For n2 instance:\")\n",
    "if n2.img == img1:\n",
    "  print(\"Imaginary part is present\")\n",
    "else:\n",
    "  print(\"Imaginary part is not present\")\n"
   ]
  }
 ],
 "metadata": {
  "kernelspec": {
   "display_name": "Python 3.9.12 ('base')",
   "language": "python",
   "name": "python3"
  },
  "language_info": {
   "codemirror_mode": {
    "name": "ipython",
    "version": 3
   },
   "file_extension": ".py",
   "mimetype": "text/x-python",
   "name": "python",
   "nbconvert_exporter": "python",
   "pygments_lexer": "ipython3",
   "version": "3.9.12"
  },
  "orig_nbformat": 4,
  "vscode": {
   "interpreter": {
    "hash": "e646e3513d9b507ac942b38379c7c22444e9458dd8d251339d12aef3346bcb59"
   }
  }
 },
 "nbformat": 4,
 "nbformat_minor": 2
}
