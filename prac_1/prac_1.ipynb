{
 "cells": [
  {
   "cell_type": "markdown",
   "metadata": {},
   "source": [
    "![](prac_1.png)"
   ]
  },
  {
   "cell_type": "code",
   "execution_count": 1,
   "metadata": {},
   "outputs": [
    {
     "name": "stdout",
     "output_type": "stream",
     "text": [
      "2\n",
      "4\n"
     ]
    }
   ],
   "source": [
    "# 1(a) Python program to print Even Numbers in given range\n",
    "n = int(input(\"Enter the end of range :\"))\n",
    "\n",
    "# iterating each number in list\n",
    "for i in range(1,n): #last+1 is written because its counting starts from zero\n",
    "    if i % 2 == 0:             # checking condition for even number or not\n",
    "        print(i)"
   ]
  },
  {
   "cell_type": "code",
   "execution_count": 3,
   "metadata": {},
   "outputs": [
    {
     "name": "stdout",
     "output_type": "stream",
     "text": [
      "10 X 1 = 10\n",
      "10 X 2 = 20\n",
      "10 X 3 = 30\n",
      "10 X 4 = 40\n",
      "10 X 5 = 50\n",
      "10 X 6 = 60\n",
      "10 X 7 = 70\n",
      "10 X 8 = 80\n",
      "10 X 9 = 90\n",
      "10 X 10 = 100\n"
     ]
    }
   ],
   "source": [
    "# 1(b) Write a program to print multiplication table of a given number using while loop.\n",
    "num_table = int(input(\"Enter the table of the number :\"))\n",
    "start_num = int(input(\"Enter the starting number :\"))\n",
    "end_num = int(input(\"Enter the range :\"))\n",
    "while(start_num <= end_num):\n",
    "  print(num_table,\"X\",start_num,\"=\",num_table*start_num)\n",
    "  start_num = start_num + 1"
   ]
  },
  {
   "cell_type": "code",
   "execution_count": 1,
   "metadata": {},
   "outputs": [
    {
     "name": "stdout",
     "output_type": "stream",
     "text": [
      "Hello piku,you have achieved grade D\n"
     ]
    }
   ],
   "source": [
    "'''1(c) Ask the user to enter student name and marks in four\n",
    "subjects. Write a program to calculate percentage and\n",
    "evaluate grade of the student using the following\n",
    "criteria. The output should display \"Hello <student_name>,\n",
    "you have achieved grade '<grade>'.\"\n",
    "Grade: A if percentage >= 90\n",
    "Grade: B if 90 > percentage >= 75\n",
    "Grade: C if 75 > percentage >= 50\n",
    "Grade: D if 50 > percentage >= 33\n",
    "Grade: E if 33 > percentage'''\n",
    "\n",
    "name = input(\"Enter your name\")\n",
    "math = int(input(\"Enter your marks for math exam\"))\n",
    "english = int(input(\"Enter your marks for english exam\"))\n",
    "science = int(input(\"Enter your marks for science exam\"))\n",
    "socialscience = int(input(\"Enter your marks for socialscience exam\"))\n",
    "percentage = (english+science+socialscience+math)/4\n",
    "\n",
    "if(percentage>=90):\n",
    "    print(\"Hello {},you have achieved grade A\".format(name))\n",
    "elif(percentage>=75 and percentage<90):\n",
    "    print(\"Hello {},you have achieved grade B\".format(name))\n",
    "elif(percentage>=50 and percentage<75):\n",
    "    print(\"Hello {},you have achieved grade C\".format(name))\n",
    "elif(percentage>=33 and percentage<50):\n",
    "    print(\"Hello {},you have achieved grade D\".format(name))\n",
    "elif(percentage<33):\n",
    "    print(\"Hello {},you have achieved grade E\".format(name))\n",
    "else:\n",
    "    print(\"User not found!\")"
   ]
  },
  {
   "cell_type": "code",
   "execution_count": 2,
   "metadata": {},
   "outputs": [
    {
     "name": "stdout",
     "output_type": "stream",
     "text": [
      "The string you entered is Hi MuhY786^uhgt& GFRtyxb and has :\n",
      "\n",
      "Upper case characters : 6\n",
      "Lower case characters : 11\n",
      "Total Number of Alphabets in this String : 0\n",
      "Total Number of Digits in this String : 3\n",
      "Total Number of Special Characters in this String : 4\n",
      "The number of words in string are :  3\n"
     ]
    }
   ],
   "source": [
    "'''1(d) Write a program to read text and calculate number of\n",
    "lowercase letters, uppercase letters, digits, alphabets,\n",
    "special characters, and words.'''\n",
    "\n",
    "string = input(\"Please Enter your String :\")\n",
    "print(\"The string you entered is {} and has :\".format(string))\n",
    "# initialize all\n",
    "lower = upper = alphabets = digits = special = 0\n",
    "\n",
    "for i in range(len(string)):\n",
    "    if(string[i].islower()):\n",
    "        lower = lower + 1 \n",
    "    elif(string[i].isupper()):\n",
    "        upper = upper + 1     \n",
    "    elif(string[i].isalpha()):\n",
    "        alphabets = alphabets + 1\n",
    "    elif(string[i].isdigit()):\n",
    "        digits = digits + 1\n",
    "    else:\n",
    "        special = special + 1\n",
    "\n",
    "words = len(string.split())\n",
    "\n",
    "print(\"\\nUpper case characters :\",upper)\n",
    "print(\"Lower case characters :\",lower)\n",
    "print(\"Total Number of Alphabets in this String :\",alphabets)\n",
    "print(\"Total Number of Digits in this String :\",digits)\n",
    "print(\"Total Number of Special Characters in this String :\",special)\n",
    "print(\"The number of words in string are :\",str(words))"
   ]
  },
  {
   "cell_type": "code",
   "execution_count": 3,
   "metadata": {},
   "outputs": [
    {
     "name": "stdout",
     "output_type": "stream",
     "text": [
      "The list is as follows:  [12, 56, 22, 7]\n",
      "Largest element is:  56\n"
     ]
    }
   ],
   "source": [
    "'''1(e) Ask the user to enter number(s) as many as he/she wants.\n",
    "Write a program to store these numbers in a list and find\n",
    "out the largest number.'''\n",
    "\n",
    "list = []\n",
    "Num_Elements = int(input(\"Enter the total number of elements in your list\"))\n",
    "for i in range(0,Num_Elements):\n",
    "    element = int(input())\n",
    "    list.append(element) # adding the element\n",
    "\n",
    "print(\"The list is as follows: \",list)\n",
    "print(\"Largest element is: \",max(list))"
   ]
  },
  {
   "cell_type": "code",
   "execution_count": 2,
   "metadata": {},
   "outputs": [
    {
     "data": {
      "text/plain": [
       "array([[4, 1],\n",
       "       [0, 0]])"
      ]
     },
     "execution_count": 2,
     "metadata": {},
     "output_type": "execute_result"
    }
   ],
   "source": [
    "import numpy as np\n",
    "np.random.randint(5,size=(2,2))"
   ]
  }
 ],
 "metadata": {
  "kernelspec": {
   "display_name": "Python 3.9.12 ('base')",
   "language": "python",
   "name": "python3"
  },
  "language_info": {
   "codemirror_mode": {
    "name": "ipython",
    "version": 3
   },
   "file_extension": ".py",
   "mimetype": "text/x-python",
   "name": "python",
   "nbconvert_exporter": "python",
   "pygments_lexer": "ipython3",
   "version": "3.9.12"
  },
  "orig_nbformat": 4,
  "vscode": {
   "interpreter": {
    "hash": "e646e3513d9b507ac942b38379c7c22444e9458dd8d251339d12aef3346bcb59"
   }
  }
 },
 "nbformat": 4,
 "nbformat_minor": 2
}
