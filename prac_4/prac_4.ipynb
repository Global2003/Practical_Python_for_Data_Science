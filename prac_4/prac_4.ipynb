{
 "cells": [
  {
   "cell_type": "markdown",
   "metadata": {},
   "source": [
    "![](prac_4.png)"
   ]
  },
  {
   "cell_type": "code",
   "execution_count": 7,
   "metadata": {},
   "outputs": [
    {
     "name": "stdout",
     "output_type": "stream",
     "text": [
      "[8, 9, 4, 5, 7]\n",
      "[ 1 -5  1  2]\n"
     ]
    }
   ],
   "source": [
    "'''4(a) Write a program to calculate element-wise difference between the neighbouring elements of a given array.'''\n",
    "import numpy as np\n",
    "# number of elements\n",
    "n = int(input(\"Enter number of elements : \"))\n",
    "# Read input\n",
    "arr = list(map(int, input(\"\\nEnter the numbers : \").split()))\n",
    "print(arr)\n",
    "b = np.diff(arr)\n",
    "print(b)"
   ]
  },
  {
   "cell_type": "code",
   "execution_count": 5,
   "metadata": {},
   "outputs": [
    {
     "name": "stdout",
     "output_type": "stream",
     "text": [
      "[[0.33303561 0.54904491 0.60346491 0.77585092 0.12454252]\n",
      " [0.55756794 0.96284926 0.65233639 0.67446033 0.97487677]\n",
      " [0.5642031  0.48727716 0.38761512 0.12037264 0.68193147]\n",
      " [0.95752018 0.16989562 0.9228318  0.37819966 0.92948009]\n",
      " [0.67669565 0.67923452 0.59079741 0.28172688 0.06080974]]\n",
      "0.9748767663667711\n",
      "0.060809736827945216\n"
     ]
    }
   ],
   "source": [
    "''' 4(e) Write a program to create a 5*5 array with random values and find the minimum and maximum values using NumPy.'''\n",
    "from numpy import random\n",
    "x = random.rand(5, 5)\n",
    "print(x)\n",
    "print(x.max())\n",
    "print(x.min())"
   ]
  },
  {
   "cell_type": "code",
   "execution_count": 3,
   "metadata": {},
   "outputs": [
    {
     "name": "stdout",
     "output_type": "stream",
     "text": [
      "[ 5.  3. -2.]\n"
     ]
    }
   ],
   "source": [
    "''' 4(d) Write a program to solve three linear equations with variables x, y, and z using NumPy.\n",
    "        4x+3y+2z  = 25\n",
    "        -2x+2y+3z = -10\n",
    "        3x-5y+2z  = -4'''\n",
    "import numpy as np\n",
    "A = np.array([[4,3,2],[-2,2,3],[3,-5,2]])\n",
    "B = np.array([25,-10,-4])\n",
    "#x = np.linalg.inv(A).dot(B)\n",
    "#print(x)\n",
    "x2 = np.linalg.solve(A,B)\n",
    "print(x2) "
   ]
  },
  {
   "cell_type": "code",
   "execution_count": 12,
   "metadata": {},
   "outputs": [
    {
     "name": "stdout",
     "output_type": "stream",
     "text": [
      "[[1 2 3]\n",
      " [4 5 6]\n",
      " [7 8 9]]\n",
      "[[1 4 7]\n",
      " [2 5 8]\n",
      " [3 6 9]]\n",
      "6.66133814775094e-16\n",
      "0.0\n"
     ]
    }
   ],
   "source": [
    "'''Write a program using NumPy to multiply two user-defined matrices of size n*n where n > 2.'''\n",
    "x =  np.arange(1, 10).reshape(3,3)\n",
    "print(x)\n",
    "\n",
    "b = x.transpose()\n",
    "print (b)\n",
    "print (np.linalg.det(x))\n",
    "print (np.linalg.det(b))"
   ]
  },
  {
   "cell_type": "code",
   "execution_count": 9,
   "metadata": {},
   "outputs": [
    {
     "name": "stdout",
     "output_type": "stream",
     "text": [
      "Enter the values\n",
      "[[5 6 7]\n",
      " [4 5 6]\n",
      " [7 8 9]]\n",
      "Determinant:\n",
      "2.664535259100367e-15\n",
      "Transpose:\n",
      "[[5 4 7]\n",
      " [6 5 8]\n",
      " [7 6 9]]\n",
      "Inverse:\n",
      "[[-1.12589991e+15  7.50599938e+14  3.75299969e+14]\n",
      " [ 2.25179981e+15 -1.50119988e+15 -7.50599938e+14]\n",
      " [-1.12589991e+15  7.50599938e+14  3.75299969e+14]]\n"
     ]
    }
   ],
   "source": [
    "'''4(c) Write a program to take a 3*3 array (matrix) from the user and calculate its transpose as well as determinant. \n",
    "Also, find whether the matrix is invertible; if yes, find the inverse of the matrix.'''\n",
    "import numpy as np \n",
    "#Taking a 4*4 matrix\n",
    "Rows = int(input(\"Enter the number of rows:\"))\n",
    "Columns = int(input(\"Enter the number of columns:\"))\n",
    "print(\"Enter the values\")\n",
    "# values input of entries\n",
    "values = list(map(int,input().split()))\n",
    "# matrix\n",
    "matrix = np.array(values).reshape(Rows,Columns)\n",
    "print(matrix)\n",
    "#calculating question\n",
    "print(\"Determinant:\")\n",
    "print(np.linalg.det(matrix))\n",
    "print(\"Transpose:\")\n",
    "print(np.matrix.transpose(matrix))\n",
    "print(\"Inverse:\")\n",
    "print(np.linalg.inv(matrix))"
   ]
  }
 ],
 "metadata": {
  "kernelspec": {
   "display_name": "Python 3.9.12 ('base')",
   "language": "python",
   "name": "python3"
  },
  "language_info": {
   "codemirror_mode": {
    "name": "ipython",
    "version": 3
   },
   "file_extension": ".py",
   "mimetype": "text/x-python",
   "name": "python",
   "nbconvert_exporter": "python",
   "pygments_lexer": "ipython3",
   "version": "3.9.12"
  },
  "orig_nbformat": 4,
  "vscode": {
   "interpreter": {
    "hash": "e646e3513d9b507ac942b38379c7c22444e9458dd8d251339d12aef3346bcb59"
   }
  }
 },
 "nbformat": 4,
 "nbformat_minor": 2
}
