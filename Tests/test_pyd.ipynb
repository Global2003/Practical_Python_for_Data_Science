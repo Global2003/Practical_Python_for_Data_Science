{
 "cells": [
  {
   "cell_type": "code",
   "execution_count": 65,
   "metadata": {},
   "outputs": [
    {
     "name": "stdout",
     "output_type": "stream",
     "text": [
      "so the number of rows is:  4\n",
      "so the character from when to start is:  69\n",
      "So the choice of user is:  2\n",
      "E\n",
      "DD\n",
      "CCC\n",
      "BBBB\n"
     ]
    }
   ],
   "source": [
    "n = int(input(\"Enter how many rows user wants - 1 means forward and 2 means backward: \"))\n",
    "print(\"so the number of rows is: \",n)\n",
    "ascii_val = int(input(\"Enter the ascii value: \"))\n",
    "character = \n",
    "print(\"so the character from when to start is: \",character)\n",
    "choices = int(input(\"The user wants which type of print\"))\n",
    "print(\"So the choice of user is: \",choices)\n",
    "\n",
    "if(choices == 1):\n",
    "    for i in range (n):        # outer loop\n",
    "        for j in range(i+1):    # inner loop\n",
    "            print(chr(as),end=\"\")\n",
    "        character+=1\n",
    "        print()\n",
    "\n",
    "\n",
    "elif(choices == 2):\n",
    "    for i in range (n):        # outer loop\n",
    "        for j in range(i+1):    # inner loop\n",
    "            print(chr(character),end=\"\")\n",
    "        character-=1\n",
    "        print()\n",
    "\n",
    "else :\n",
    "    print(\"SORRY! The choice inserted by user is wrong.\")"
   ]
  },
  {
   "cell_type": "code",
   "execution_count": 1,
   "metadata": {},
   "outputs": [
    {
     "name": "stdout",
     "output_type": "stream",
     "text": [
      "The number of rows are 8\n",
      "                * \n",
      "              * * * \n",
      "            * * * * * \n",
      "          * * * * * * * \n",
      "        * * * * * * * * * \n",
      "      * * * * * * * * * * * \n",
      "    * * * * * * * * * * * * * \n",
      "  * * * * * * * * * * * * * * * \n"
     ]
    }
   ],
   "source": [
    "n = int(input(\"Enter the number of rows\"))\n",
    "print(\"The number of rows are\",n)\n",
    "for i in range(n):\n",
    "    for j in range(i,n):\n",
    "        print(\" \",end = \" \")\n",
    "    for j in range (i):\n",
    "        print(\"*\",end = \" \")\n",
    "    for j in range (i+1):\n",
    "        print(\"*\",end = \" \")\n",
    "    print()"
   ]
  },
  {
   "cell_type": "markdown",
   "metadata": {},
   "source": [
    "##### Write Python code to find average, Maximum and Minimum of marks obtained by students for Engineering Drawing subject (class size : 60)\n"
   ]
  },
  {
   "cell_type": "code",
   "execution_count": 9,
   "metadata": {},
   "outputs": [
    {
     "name": "stdout",
     "output_type": "stream",
     "text": [
      "Number of students selected 5\n",
      "[3, 4, 5, 23, 34]\n",
      "Average of all the marks in drawing: 13.8\n",
      "Max marks in drawing: 34\n",
      "Min marks in drawing: 3\n"
     ]
    }
   ],
   "source": [
    "# creating an empty list\n",
    "list = []\n",
    "# number of students as input\n",
    "n = int(input(\"Enter number of students :\"))\n",
    "print(\"Number of students selected\",n)\n",
    "# iterating till the range\n",
    "for i in range(0, n):\n",
    "            marks = int(input())\n",
    "            list.append(marks) \n",
    "# Python program to get average of a list\n",
    "def Average(list):\n",
    "    return sum(list) / len(list)\n",
    "print(list)\n",
    "print(\"Average of all the marks in drawing:\", Average(list))\n",
    "print(\"Max marks in drawing:\", max(list))\n",
    "print(\"Min marks in drawing:\", min(list))"
   ]
  },
  {
   "cell_type": "markdown",
   "metadata": {},
   "source": [
    "##### Write a Python Program to find the sum of all Odd numbers up to a number specified by the user"
   ]
  },
  {
   "cell_type": "code",
   "execution_count": 15,
   "metadata": {},
   "outputs": [
    {
     "name": "stdout",
     "output_type": "stream",
     "text": [
      "[4, 5, 6, 4, 3]\n",
      "The Sum of Odd Numbers in this List = 8\n"
     ]
    }
   ],
   "source": [
    "List = []\n",
    "Odd_Sum = 0\n",
    "\n",
    "n = int(input(\"Please enter the Total Number of List Elements:\"))\n",
    "for i in range(0,n):\n",
    "    elements = int(input(\"Please enter the Value of %d Element :\",%i))\n",
    "    List.append(elements)\n",
    "\n",
    "for j in range(n):\n",
    "    if(List[j] % 2 != 0):\n",
    "        Odd_Sum = Odd_Sum + List[j]\n",
    "    else:\n",
    "        pass\n",
    "    \n",
    "print(List)\n",
    "print(\"The Sum of Odd Numbers in this List =\", Odd_Sum)"
   ]
  },
  {
   "cell_type": "markdown",
   "metadata": {},
   "source": [
    "##### Write a Python function to calculate the factorial of a number (a non-negative integer). The function accepts the number as an argument"
   ]
  },
  {
   "cell_type": "code",
   "execution_count": 20,
   "metadata": {},
   "outputs": [
    {
     "name": "stdout",
     "output_type": "stream",
     "text": [
      "The number selected is 4\n",
      "The factorial of given number is: 24\n"
     ]
    }
   ],
   "source": [
    "def factorial(n):\n",
    "    if n == 0:\n",
    "        return 1\n",
    "    else:\n",
    "        return n * factorial(n-1)\n",
    "n=int(input(\"Input a number to compute the factiorial:\"))\n",
    "print(\"The number selected is\",n)\n",
    "print(\"The factorial of given number is:\",factorial(n))"
   ]
  },
  {
   "cell_type": "markdown",
   "metadata": {},
   "source": [
    "##### Define a function named even. This function expects a number as an argument and returns True if the number is divisible by 2, or it returns False otherwise."
   ]
  },
  {
   "cell_type": "code",
   "execution_count": 41,
   "metadata": {},
   "outputs": [
    {
     "name": "stdout",
     "output_type": "stream",
     "text": [
      "True\n",
      "False\n"
     ]
    }
   ],
   "source": [
    "def even(m, n):\n",
    "\treturn True if m % n == 0 else False\n",
    "\n",
    "print(even(20, 2))\n",
    "print(even(7, 2))\n"
   ]
  },
  {
   "cell_type": "code",
   "execution_count": 6,
   "metadata": {},
   "outputs": [
    {
     "name": "stdout",
     "output_type": "stream",
     "text": [
      "27.0\n"
     ]
    }
   ],
   "source": [
    "from math import pow\n",
    "a = pow(3,3)\n",
    "print(a)"
   ]
  },
  {
   "cell_type": "code",
   "execution_count": 10,
   "metadata": {},
   "outputs": [
    {
     "name": "stdout",
     "output_type": "stream",
     "text": [
      "Fibonacci sequence:\n",
      "0\n",
      "1\n",
      "1\n",
      "2\n",
      "3\n",
      "5\n",
      "8\n",
      "13\n",
      "21\n",
      "34\n"
     ]
    }
   ],
   "source": [
    "# Python program to display the Fibonacci sequence\n",
    "\n",
    "def recur_fibo(n):\n",
    "    if n <= 1:\n",
    "        return n\n",
    "    else:\n",
    "        return(recur_fibo(n-1) + recur_fibo(n-2))\n",
    "\n",
    "nterms = 10\n",
    "\n",
    "# check if the number of terms is valid\n",
    "if nterms <= 0:\n",
    "    print(\"Plese enter a positive integer\")\n",
    "else:\n",
    "    print(\"Fibonacci sequence:\")\n",
    "    for i in range(nterms):\n",
    "        print(recur_fibo(i))\n"
   ]
  },
  {
   "cell_type": "code",
   "execution_count": 14,
   "metadata": {},
   "outputs": [
    {
     "ename": "ModuleNotFoundError",
     "evalue": "No module named 'fibo'",
     "output_type": "error",
     "traceback": [
      "\u001b[1;31m---------------------------------------------------------------------------\u001b[0m",
      "\u001b[1;31mModuleNotFoundError\u001b[0m                       Traceback (most recent call last)",
      "\u001b[1;32mc:\\Users\\DEVARSHI SHAH\\Desktop\\vs code\\PYD\\prac_sem5\\test_pyd.ipynb Cell 13\u001b[0m in \u001b[0;36m<cell line: 1>\u001b[1;34m()\u001b[0m\n\u001b[1;32m----> <a href='vscode-notebook-cell:/c%3A/Users/DEVARSHI%20SHAH/Desktop/vs%20code/PYD/prac_sem5/test_pyd.ipynb#X15sZmlsZQ%3D%3D?line=0'>1</a>\u001b[0m \u001b[39mfrom\u001b[39;00m \u001b[39mfibo\u001b[39;00m \u001b[39mimport\u001b[39;00m fib \u001b[39mas\u001b[39;00m fibonacci\n\u001b[0;32m      <a href='vscode-notebook-cell:/c%3A/Users/DEVARSHI%20SHAH/Desktop/vs%20code/PYD/prac_sem5/test_pyd.ipynb#X15sZmlsZQ%3D%3D?line=1'>2</a>\u001b[0m fibonacci(\u001b[39m1000\u001b[39m)\n",
      "\u001b[1;31mModuleNotFoundError\u001b[0m: No module named 'fibo'"
     ]
    }
   ],
   "source": [
    "from fibo import fib as fibonacci\n",
    "fibonacci(1000)"
   ]
  }
 ],
 "metadata": {
  "kernelspec": {
   "display_name": "Python 3.9.12 ('base')",
   "language": "python",
   "name": "python3"
  },
  "language_info": {
   "codemirror_mode": {
    "name": "ipython",
    "version": 3
   },
   "file_extension": ".py",
   "mimetype": "text/x-python",
   "name": "python",
   "nbconvert_exporter": "python",
   "pygments_lexer": "ipython3",
   "version": "3.9.12"
  },
  "orig_nbformat": 4,
  "vscode": {
   "interpreter": {
    "hash": "e646e3513d9b507ac942b38379c7c22444e9458dd8d251339d12aef3346bcb59"
   }
  }
 },
 "nbformat": 4,
 "nbformat_minor": 2
}
