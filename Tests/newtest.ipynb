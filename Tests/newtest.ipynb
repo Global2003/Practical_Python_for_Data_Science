{
 "cells": [
  {
   "cell_type": "markdown",
   "metadata": {},
   "source": [
    "![](newtest2.png)"
   ]
  },
  {
   "cell_type": "code",
   "execution_count": null,
   "metadata": {},
   "outputs": [
    {
     "ename": "",
     "evalue": "",
     "output_type": "error",
     "traceback": [
      "\u001b[1;31mFailed to start the Kernel. \n",
      "\u001b[1;31mUnable to start Kernel 'base (Python 3.9.12)' due to connection timeout. \n",
      "\u001b[1;31mView Jupyter <a href='command:jupyter.viewOutput'>log</a> for further details."
     ]
    }
   ],
   "source": [
    "import numpy as np\n",
    "import string\n",
    "row = int(input(\"Enter the  number of rows:\\n\"))\n",
    "column = int(input(\"Enter the number of column:\\n\"))\n",
    "matrix = np.random.randint(100, size=(row, column))\n",
    "matrix = np.array(matrix)\n",
    "print(\"Matrix:\\n\", matrix)\n",
    "my_dict = {c: ord(c) for c in string.ascii_lowercase} #The ord() function returns the number representing the unicode code of a specified character.\n",
    "print(my_dict)\n",
    "def loop_translate(matrix, my_dict):\n",
    "    new_matrix = np.empty(matrix.shape) #Return a new array of given shape and type, with random values.\n",
    "    for i,row in enumerate(matrix):\n",
    "        new_matrix[i,:] = map(my_dict.get, row) \n",
    "    return new_matrix\n",
    "#The get() method returns the value for the specified key if the key is in the dictionary.\n",
    "#print(new_matrix)\n",
    "    \n",
    "while True:\n",
    "    print(\"Select from given options:\\n\")\n",
    "    task1 = input(\"Do you want to replace any element:(y/n)\\n\")\n",
    "    if task1 == \"y\":\n",
    "        print(\"Enter the index of that element:\")\n",
    "        rowindex, columnindex = int(input(\"Enter row index:\")), int(input(\"Enter column index:\"))\n",
    "        ele_new = int(input(\"Enter the new element:\\n\"))\n",
    "        matrix[rowindex, columnindex] = ele_new\n",
    "        print(\"Matrix with new element:\\n\", matrix)\n",
    "    task2 = input(\"Count the frequency of the character:(y/n)\\n\")\n",
    "    if task2 == \"y\":\n",
    "        dict = {}                               #create an empty dictionary\n",
    "    for ch in new_matrix:\n",
    "        if ch in dict:                          #if next character is already in the dictionary\n",
    "            dict[ch] += 1\n",
    "        else:\n",
    "            dict[ch] = 1                        #if ch appears for the first time\n",
    "    for key in dict:\n",
    "        print(key,':',dict[key])\n",
    "    exit = input(\"Do you want to exit:(y/n)\\n\")\n",
    "    if exit == \"y\":\n",
    "        break"
   ]
  }
 ],
 "metadata": {
  "kernelspec": {
   "display_name": "Python 3.9.12 ('base')",
   "language": "python",
   "name": "python3"
  },
  "language_info": {
   "codemirror_mode": {
    "name": "ipython",
    "version": 3
   },
   "file_extension": ".py",
   "mimetype": "text/x-python",
   "name": "python",
   "nbconvert_exporter": "python",
   "pygments_lexer": "ipython3",
   "version": "3.9.12"
  },
  "orig_nbformat": 4,
  "vscode": {
   "interpreter": {
    "hash": "e646e3513d9b507ac942b38379c7c22444e9458dd8d251339d12aef3346bcb59"
   }
  }
 },
 "nbformat": 4,
 "nbformat_minor": 2
}
