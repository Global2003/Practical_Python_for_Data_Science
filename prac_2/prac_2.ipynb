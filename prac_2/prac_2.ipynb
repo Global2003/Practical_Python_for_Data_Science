{
 "cells": [
  {
   "cell_type": "markdown",
   "metadata": {},
   "source": [
    "![](prac_2.png)"
   ]
  },
  {
   "cell_type": "code",
   "execution_count": 1,
   "metadata": {},
   "outputs": [
    {
     "name": "stdout",
     "output_type": "stream",
     "text": [
      "The order which user gave input of:\n",
      "['Saino', 'Pentanoic', 'Reynolds']\n",
      "[100, 292, 88]\n",
      "The product with maximum price is Saino\n",
      "The product with minimum price is Pentanoic\n"
     ]
    }
   ],
   "source": [
    "'''2(a) Write a program to create a dictionary where keys represent products and values represent prices. \n",
    "Find out and display products with the minimum and maximum prices.'''\n",
    "\n",
    "Pens = {'Saino':100, 'Pentanoic':292, 'Reynolds' : 88}\n",
    "print(\"The order which user gave input of:\")\n",
    "keys = list(Pens.keys())\n",
    "values = list(Pens.values())\n",
    "print(keys)\n",
    "print(values)\n",
    "\n",
    "max_val = max(Pens)\n",
    "min_val = min(Pens)\n",
    "\n",
    "print(\"The product with maximum price is {}\".format(max_val))\n",
    "print(\"The product with minimum price is {}\".format(min_val))"
   ]
  },
  {
   "cell_type": "code",
   "execution_count": 3,
   "metadata": {},
   "outputs": [
    {
     "name": "stdout",
     "output_type": "stream",
     "text": [
      "{'ice': 11, 'coffee': 40, 'cream': 20, 'chocolate': 10, 'pack': 20}\n"
     ]
    }
   ],
   "source": [
    "'''2(b) Write a program to create two dictionaries with numerical values of each key and merge the dictionaries\n",
    "such that values of common keys should be added.'''\n",
    "\n",
    "from collections import Counter \n",
    "dict_A = {'ice': 5, 'coffee': 40, 'cream': 20}\n",
    "dict_B = {'chocolate': 10, 'ice': 6, 'pack': 20}\n",
    "\n",
    "# Add with common key\n",
    "# USE collections.Counter() TO ADD VALUES FROM TWO DICTIONARIES\n",
    "a_counter = Counter(dict_A)\n",
    "b_counter = Counter(dict_B)\n",
    "\n",
    "add_dict = a_counter + b_counter\n",
    "dict_C = dict(add_dict)\n",
    "\n",
    "print(dict_C)"
   ]
  },
  {
   "cell_type": "code",
   "execution_count": 12,
   "metadata": {},
   "outputs": [
    {
     "name": "stdout",
     "output_type": "stream",
     "text": [
      "The string the user entered is adani\n",
      "a : 2\n",
      "d : 1\n",
      "n : 1\n",
      "i : 1\n"
     ]
    }
   ],
   "source": [
    "'''2(c) Write a program to create a dictionary where keys represent characters in a string and values represent\n",
    "their frequencies. For example,\n",
    "Input: \"adani\"\n",
    "Expected output: {'a': 2, 'd': 1, 'i': 1, 'n': 1}'''\n",
    "\n",
    "string = input(\"Enter a string: \")\n",
    "print(\"The string the user entered is\",string)\n",
    "dict = {}                               #create an empty dictionary\n",
    "for ch in string:\n",
    "    if ch in dict:                      #if next character is already in the dictionary\n",
    "        dict[ch] += 1\n",
    "    else:\n",
    "        dict[ch] = 1                    #if ch appears for the first time\n",
    "\n",
    "for key in dict:\n",
    "    print(key,':',dict[key])"
   ]
  },
  {
   "cell_type": "code",
   "execution_count": 13,
   "metadata": {},
   "outputs": [
    {
     "name": "stdout",
     "output_type": "stream",
     "text": [
      "Union : {0, 1, 2, 3, 4, 5, 6, 8}\n",
      "Intersection : {2, 4}\n",
      "Difference : {0, 8, 6}\n",
      "Symmetric difference : {0, 1, 3, 5, 6, 8}\n"
     ]
    }
   ],
   "source": [
    "'''2(d) Write a program to create two sets and find out union, intersection, and symmetric difference between them.'''\n",
    "\n",
    "A = {0, 2, 4, 6, 8};\n",
    "B = {1, 2, 3, 4, 5};\n",
    "\n",
    "# union\n",
    "print(\"Union :\", A | B)\n",
    "\n",
    "# intersection\n",
    "print(\"Intersection :\", A & B)\n",
    "\n",
    "# difference\n",
    "print(\"Difference :\", A - B)\n",
    "\n",
    "# symmetric difference\n",
    "print(\"Symmetric difference :\", A ^ B)"
   ]
  },
  {
   "cell_type": "markdown",
   "metadata": {},
   "source": [
    "### 2(e) Write a program to check whether the number entered by the user is a perfect number."
   ]
  },
  {
   "cell_type": "markdown",
   "metadata": {},
   "source": [
    "![](perf.png)"
   ]
  },
  {
   "cell_type": "code",
   "execution_count": 15,
   "metadata": {},
   "outputs": [
    {
     "name": "stdout",
     "output_type": "stream",
     "text": [
      "The value which user input is: 28\n",
      "The number is a perfect number\n"
     ]
    }
   ],
   "source": [
    "val_num = int(input(\"Enter the number to check whether it is perfect or not\"))\n",
    "print(\"The value which user input is:\",val_num)\n",
    "\n",
    "my_sum = 0\n",
    "for i in range(1, val_num):\n",
    "    if(val_num % i == 0):\n",
    "        my_sum = my_sum + i\n",
    "\n",
    "if (my_sum == val_num):\n",
    "    print(\"The number is a perfect number\")\n",
    "else:\n",
    "    print(\"The number is not a perfect number\")"
   ]
  }
 ],
 "metadata": {
  "kernelspec": {
   "display_name": "Python 3.9.13 64-bit (microsoft store)",
   "language": "python",
   "name": "python3"
  },
  "language_info": {
   "codemirror_mode": {
    "name": "ipython",
    "version": 3
   },
   "file_extension": ".py",
   "mimetype": "text/x-python",
   "name": "python",
   "nbconvert_exporter": "python",
   "pygments_lexer": "ipython3",
   "version": "3.9.13"
  },
  "orig_nbformat": 4,
  "vscode": {
   "interpreter": {
    "hash": "851ff218efcd81498dc9c820653768da923e2c65f9f829bf47135c29ac2320d0"
   }
  }
 },
 "nbformat": 4,
 "nbformat_minor": 2
}
