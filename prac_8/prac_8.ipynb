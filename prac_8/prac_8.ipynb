{
 "cells": [
  {
   "cell_type": "markdown",
   "metadata": {},
   "source": [
    "![](prac_8.png)"
   ]
  },
  {
   "cell_type": "code",
   "execution_count": 2,
   "metadata": {},
   "outputs": [
    {
     "data": {
      "image/png": "[encoded data removed]",
      "text/plain": [
       "<Figure size 432x288 with 1 Axes>"
      ]
     },
     "metadata": {},
     "output_type": "display_data"
    }
   ],
   "source": [
    "'''8(a) Write a program to display a pie chart for movie type distribution. \n",
    "The data includes Comedy (4), Action (5),Drama (7), and Sci-Fi (4).'''\n",
    "import matplotlib.pyplot as plt\n",
    "%matplotlib inline\n",
    "values = [4,5,7,4]\n",
    "l = ['Comedy','Action','Drama','Sci-Fi']\n",
    "c = ['b','g','m','c']\n",
    "#e = [0,0,0,0,0]\n",
    "plt.pie(values,colors=c,labels=l)\n",
    "plt.legend(title = \"Movie Types:\")\n",
    "plt.show()"
   ]
  },
  {
   "cell_type": "code",
   "execution_count": 10,
   "metadata": {},
   "outputs": [
    {
     "name": "stdout",
     "output_type": "stream",
     "text": [
      "The skewness of numerical dataset is:  0.029331688766181797\n",
      "The kurtosis of numerical dataset is:  -0.29271198374234686\n"
     ]
    }
   ],
   "source": [
    "'''8(b) Write a program to find kurtosis and skewness of a set of numerical values.'''\n",
    "# Importing library\n",
    "from scipy.stats import skew,kurtosis\n",
    "# Creating a numerical dataset\n",
    "values = [88, 85, 82, 97, 67, 77, 74, 86, 81, 95, 77, 88, 85, 76, 81]\n",
    "# Calculate the skewness\n",
    "x = skew(values, axis=0, bias=True) # bias = False: Calculations are corrected to statistical bias.\n",
    "print(\"The skewness of numerical dataset is: \",x)\n",
    "# Calculate the kurtosis\n",
    "y = kurtosis(values, axis=0, bias=True)\n",
    "print(\"The kurtosis of numerical dataset is: \",y)\n"
   ]
  },
  {
   "cell_type": "code",
   "execution_count": 5,
   "metadata": {},
   "outputs": [
    {
     "name": "stdout",
     "output_type": "stream",
     "text": [
      "The number of elements in array are:  5\n",
      "Array:  [5, 4, 3, 7, 8]\n",
      "35th quantile of arr :  4.4\n",
      "60th quantile of arr :  5.8\n",
      "80th quantile of arr :  7.2\n"
     ]
    }
   ],
   "source": [
    "'''8(c) Write a program to find quartile of a set of numerical values at 35 percentile, 60 percentile, and 80 percentile.'''\n",
    "import numpy as np\n",
    "\n",
    "arr = []\n",
    "\n",
    "n = int(input(\"Enter number of elements: \"))\n",
    "print(\"The number of elements in array are: \",n)\n",
    "for i in range(0, n):\n",
    "    ele = int(input())\n",
    "    arr.append(ele)\n",
    "\n",
    "print(\"Array: \", arr)\n",
    "print(\"35th quantile of arr : \", np.quantile(arr, .35))\n",
    "print(\"60th quantile of arr : \", np.quantile(arr, .60))\n",
    "print(\"80th quantile of arr : \", np.quantile(arr, .80))"
   ]
  },
  {
   "cell_type": "markdown",
   "metadata": {},
   "source": [
    "![](boxplot.jpeg)"
   ]
  },
  {
   "cell_type": "code",
   "execution_count": 6,
   "metadata": {},
   "outputs": [
    {
     "data": {
      "text/plain": [
       "{'whiskers': [<matplotlib.lines.Line2D at 0x1ed61066130>,\n",
       "  <matplotlib.lines.Line2D at 0x1ed61066400>],\n",
       " 'caps': [<matplotlib.lines.Line2D at 0x1ed61066790>,\n",
       "  <matplotlib.lines.Line2D at 0x1ed610669a0>],\n",
       " 'boxes': [<matplotlib.lines.Line2D at 0x1ed61051e20>],\n",
       " 'medians': [<matplotlib.lines.Line2D at 0x1ed61066c70>],\n",
       " 'fliers': [<matplotlib.lines.Line2D at 0x1ed61066f40>],\n",
       " 'means': []}"
      ]
     },
     "execution_count": 6,
     "metadata": {},
     "output_type": "execute_result"
    },
    {
     "data": {
      "image/png": "[encoded data removed]",
      "text/plain": [
       "<Figure size 432x288 with 1 Axes>"
      ]
     },
     "metadata": {
      "needs_background": "light"
     },
     "output_type": "display_data"
    }
   ],
   "source": [
    "'''8(d) Write a program to demonstrate boxplot.'''\n",
    "import pandas as pd\n",
    "import matplotlib.pyplot as plt\n",
    "%matplotlib inline\n",
    "timetaken = pd.Series([50,45,52,63,70,21,56,68,54,57,35,62,65,92,32])\n",
    "plt.boxplot(timetaken)"
   ]
  },
  {
   "cell_type": "code",
   "execution_count": 7,
   "metadata": {},
   "outputs": [
    {
     "data": {
      "image/png": "[encoded data removed]",
      "text/plain": [
       "<Figure size 432x288 with 1 Axes>"
      ]
     },
     "metadata": {
      "needs_background": "light"
     },
     "output_type": "display_data"
    }
   ],
   "source": [
    "'''8(d) Write a program to demonstrate histogram.'''\n",
    "import matplotlib.pyplot as plt\n",
    "import numpy as np\n",
    "%matplotlib inline\n",
    "cpis = np.random.randint(0,10,100)\n",
    "plt.hist(cpis,bins=10, histtype='stepfilled',align='mid',label='CPIHist')\n",
    "plt.legend()\n",
    "plt.show()"
   ]
  },
  {
   "cell_type": "markdown",
   "metadata": {},
   "source": [
    "# personal reference\n",
    "https://www.codingninjas.com/codestudio/library/skewness-and-kurtosis"
   ]
  }
 ],
 "metadata": {
  "kernelspec": {
   "display_name": "Python 3.9.12 ('base')",
   "language": "python",
   "name": "python3"
  },
  "language_info": {
   "codemirror_mode": {
    "name": "ipython",
    "version": 3
   },
   "file_extension": ".py",
   "mimetype": "text/x-python",
   "name": "python",
   "nbconvert_exporter": "python",
   "pygments_lexer": "ipython3",
   "version": "3.9.12"
  },
  "orig_nbformat": 4,
  "vscode": {
   "interpreter": {
    "hash": "e646e3513d9b507ac942b38379c7c22444e9458dd8d251339d12aef3346bcb59"
   }
  }
 },
 "nbformat": 4,
 "nbformat_minor": 2
}
